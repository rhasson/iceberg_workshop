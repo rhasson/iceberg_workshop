{
 "cells": [
  {
   "cell_type": "markdown",
   "id": "02d40b14",
   "metadata": {},
   "source": [
    "# Setting up Polaris Catalog"
   ]
  },
  {
   "cell_type": "markdown",
   "id": "c4b0878e",
   "metadata": {},
   "source": [
    "## Polaris Catalog configuration\n",
    "\n",
    "Polaris requires you to configure principal users, roles and catalogs before you can begin creating tables.\n",
    "\n",
    "For this workshop we'll use the following configuration:\n",
    "\n",
    "1. Create a catalog named \"polariscatalog\" that we'll use to store our tables.\n",
    "2. Create a principal user called \"sparkuser\". This user comes with clientId and clientSecret that we'll use to access the catalog on its behalf\n",
    "3. The \"sparkuser\" will be assigned a principal role called \"spark_principal_role\" that will be associated with a catalog role\n",
    "4. Create a catalog role called \"catalog_role\" and assign it permissions (like reading/writing table data)\n",
    "5. Associate the catalog role to the principal role\n",
    "\n",
    "The permission chain will look like this:\n",
    "\n",
    "CATALOG_MANAGE_CONTENT --> catalog_role --> polariscatalog --> spark_principal_role --> sparkuser"
   ]
  },
  {
   "cell_type": "code",
   "execution_count": 96,
   "id": "5992dd12-bbee-40ad-90d7-6c20828a27c2",
   "metadata": {},
   "outputs": [],
   "source": [
    "import requests\n",
    "\n",
    "# clientId and clientSecret are the catalog root credentials you can get from stdout when the catalog starts up\n",
    "clientId=\"29f9ba8fa3b4cf58\"\n",
    "clientSecret=\"c4de93522fe0d1e229b51c057beb64d1\"\n",
    "accessToken=\"\"\n",
    "\n",
    "warehouseLocation=\"s3://upsolver-workshop-lake/sparkwarehouse/\"\n",
    "s3RoleArn=\"arn:aws:iam::765307950567:role/upsolver-workshop-s3-role\"\n",
    "\n",
    "catalogName=\"polariscatalog\"\n",
    "principalUser=\"sparkuser\"\n",
    "principalRoleName=\"spark_principal_role\"\n",
    "catalogRoleName=\"catalog_role\""
   ]
  },
  {
   "cell_type": "code",
   "execution_count": null,
   "id": "4c046f6e-3a82-4457-9dae-52f73df774ab",
   "metadata": {},
   "outputs": [],
   "source": [
    "## GET ACCESS TOKEN\n",
    "\n",
    "payload = {'grant_type':'client_credentials', 'client_id':clientId, 'client_secret':clientSecret, 'scope':'PRINCIPAL_ROLE:ALL'}\n",
    "\n",
    "r = requests.post('http://polaris-catalog:8181/api/catalog/v1/oauth/tokens', data=payload)\n",
    "accessToken=r.json()['access_token']\n",
    "print(accessToken)"
   ]
  },
  {
   "cell_type": "code",
   "execution_count": 67,
   "id": "b2bb2d4d-46bf-4c9d-85fe-2f4965dba748",
   "metadata": {},
   "outputs": [
    {
     "name": "stdout",
     "output_type": "stream",
     "text": [
      "\n"
     ]
    }
   ],
   "source": [
    "### CREATING THE CATALOG\n",
    "\n",
    "payload = {\n",
    "    'name':catalogName,\n",
    "    'type':'INTERNAL',\n",
    "    'properties':{ \"default-base-location\": warehouseLocation },\n",
    "    'storageConfigInfo':{\n",
    "        'roleArn':s3RoleArn,\n",
    "        'storageType':'S3',\n",
    "        'allowedLocations':[warehouseLocation]\n",
    "    }\n",
    "}\n",
    "\n",
    "headers = {'Authorization':'Bearer '+ accessToken, 'Accept':'application/json'}\n",
    "\n",
    "r = requests.post('http://polaris-catalog:8181/api/management/v1/catalogs', headers=headers, json=payload)\n",
    "print(r.text)"
   ]
  },
  {
   "cell_type": "code",
   "execution_count": null,
   "id": "f6a5248b-2dc7-4ad3-a8b0-509afdbc1b8e",
   "metadata": {},
   "outputs": [],
   "source": [
    "### CREATING THE PRINCIPAL\n",
    "\n",
    "payload = {\n",
    "    'name':principalUser,\n",
    "    'type':'user'\n",
    "}\n",
    "\n",
    "headers = {'Authorization':'Bearer '+ accessToken, 'Accept':'application/json'}\n",
    "\n",
    "r = requests.post('http://polaris-catalog:8181/api/management/v1/principals', headers=headers, json=payload)\n",
    "print(r.text)"
   ]
  },
  {
   "cell_type": "code",
   "execution_count": 79,
   "id": "5f1b35cc-a38d-4eb1-abb4-4724b354be9e",
   "metadata": {},
   "outputs": [
    {
     "name": "stdout",
     "output_type": "stream",
     "text": [
      "\n"
     ]
    }
   ],
   "source": [
    "### CREATE PRINCIPAL ROLE\n",
    "\n",
    "payload = {\n",
    "    'principalRole':{'name':principalRoleName}\n",
    "}\n",
    "\n",
    "headers = {'Authorization':'Bearer '+ accessToken, 'Accept':'application/json'}\n",
    "\n",
    "r = requests.post('http://polaris-catalog:8181/api/management/v1/principal-roles', headers=headers, json=payload)\n",
    "print(r.text)"
   ]
  },
  {
   "cell_type": "code",
   "execution_count": 81,
   "id": "38d62da0-96d0-4dec-86f7-cc3b82eeee70",
   "metadata": {},
   "outputs": [
    {
     "name": "stdout",
     "output_type": "stream",
     "text": [
      "\n"
     ]
    }
   ],
   "source": [
    "### ASSIGN PRINCIPAL ROLE TO PRINCIPAL\n",
    "\n",
    "payload = {\n",
    "    'principalRole':{'name':principalRoleName}\n",
    "}\n",
    "\n",
    "headers = {'Authorization':'Bearer '+ accessToken, 'Accept':'application/json'}\n",
    "\n",
    "r = requests.put('http://polaris-catalog:8181/api/management/v1/principals/'+principalUser+'/principal-roles', headers=headers, json=payload)\n",
    "print(r.text)"
   ]
  },
  {
   "cell_type": "code",
   "execution_count": 85,
   "id": "a59bce9c-7a96-426b-92da-43c5591b1746",
   "metadata": {},
   "outputs": [
    {
     "name": "stdout",
     "output_type": "stream",
     "text": [
      "\n"
     ]
    }
   ],
   "source": [
    "### CREATE A CATALOG ROLE FOR OUR CATALOG\n",
    "\n",
    "payload = {\n",
    "    'catalogRole':{'name':catalogRoleName}\n",
    "}\n",
    "\n",
    "headers = {'Authorization':'Bearer '+ accessToken, 'Accept':'application/json'}\n",
    "\n",
    "r = requests.post('http://polaris-catalog:8181/api/management/v1/catalogs/'+catalogName+'/catalog-roles', headers=headers, json=payload)\n",
    "print(r.text)"
   ]
  },
  {
   "cell_type": "code",
   "execution_count": 89,
   "id": "bf56d093-6880-416d-867e-c9c9f76fa3dd",
   "metadata": {},
   "outputs": [
    {
     "name": "stdout",
     "output_type": "stream",
     "text": [
      "\n"
     ]
    }
   ],
   "source": [
    "### ASSIGN THE CATALOG ROLE TO PRINCIPAL ROLE\n",
    "\n",
    "payload = {\n",
    "    'catalogRole':{'name':catalogRoleName}\n",
    "}\n",
    "\n",
    "headers = {'Authorization':'Bearer '+ accessToken, 'Accept':'application/json'}\n",
    "\n",
    "r = requests.put('http://polaris-catalog:8181/api/management/v1/principal-roles/'+principalRoleName+'/catalog-roles/'+catalogName, headers=headers, json=payload)\n",
    "print(r.text)"
   ]
  },
  {
   "cell_type": "code",
   "execution_count": 93,
   "id": "d69dc3fc-6855-444c-ac49-9dab150b9416",
   "metadata": {},
   "outputs": [
    {
     "name": "stdout",
     "output_type": "stream",
     "text": [
      "\n"
     ]
    }
   ],
   "source": [
    "### GRANT PRIVILEGES TO CATALOG ROLE\n",
    "\n",
    "payload = {\n",
    "    'grant':{\n",
    "        'type':'catalog',\n",
    "        'privilege':'CATALOG_MANAGE_CONTENT'\n",
    "    }\n",
    "}\n",
    "\n",
    "headers = {'Authorization':'Bearer '+ accessToken, 'Accept':'application/json'}\n",
    "\n",
    "r = requests.put('http://polaris-catalog:8181/api/management/v1/catalogs/'+catalogName+'/catalog-roles/'+catalogRoleName+'/grants', headers=headers, json=payload)\n",
    "print(r.text)"
   ]
  }
 ],
 "metadata": {
  "kernelspec": {
   "display_name": "Python 3 (ipykernel)",
   "language": "python",
   "name": "python3"
  },
  "language_info": {
   "codemirror_mode": {
    "name": "ipython",
    "version": 3
   },
   "file_extension": ".py",
   "mimetype": "text/x-python",
   "name": "python",
   "nbconvert_exporter": "python",
   "pygments_lexer": "ipython3",
   "version": "3.9.20"
  }
 },
 "nbformat": 4,
 "nbformat_minor": 5
}
