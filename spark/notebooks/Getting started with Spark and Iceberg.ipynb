{
 "cells": [
  {
   "cell_type": "markdown",
   "id": "56de889d",
   "metadata": {},
   "source": [
    "# Getting started with Spark and Iceberg"
   ]
  },
  {
   "cell_type": "code",
   "execution_count": null,
   "id": "bd802bf1-b20a-416e-8d92-6af51a269bc1",
   "metadata": {},
   "outputs": [],
   "source": [
    "## Update with your principal user credentials (from Polaris Catalog)\n",
    "\n",
    "clientId=\"f5fb404daaa0dfe2\"\n",
    "clientSecret=\"a06f1727e964d80e4daf4c12af146af0\""
   ]
  },
  {
   "cell_type": "code",
   "execution_count": null,
   "id": "bc1be619-2903-4b76-b3fe-c80806101015",
   "metadata": {},
   "outputs": [],
   "source": [
    "## Start the Spark application and connect to our Polaris Catalog\n",
    "\n",
    "import pyspark\n",
    "from pyspark.sql import SparkSession\n",
    "\n",
    "spark = SparkSession.builder.appName('iceberg_lab') \\\n",
    ".config('spark.sql.defaultCatalog', 'polaris') \\\n",
    ".config('spark.sql.catalog.polaris', 'org.apache.iceberg.spark.SparkCatalog') \\\n",
    ".config('spark.sql.catalog.polaris.type', 'rest') \\\n",
    ".config('spark.sql.catalog.polaris.header.X-Iceberg-Access-Delegation','true') \\\n",
    ".config('spark.sql.catalog.polaris.client.region','us-east-1') \\\n",
    ".config('spark.sql.catalog.polaris.uri','http://polaris-catalog:8181/api/catalog') \\\n",
    ".config('spark.sql.catalog.polaris.credential',clientId+':'+clientSecret) \\\n",
    ".config('spark.sql.catalog.polaris.warehouse','polariscatalog') \\\n",
    ".config('spark.sql.catalog.polaris.scope','PRINCIPAL_ROLE:ALL') \\\n",
    ".config('spark.sql.catalog.polaris.token-refresh-enabled', 'true') \\\n",
    ".getOrCreate()"
   ]
  },
  {
   "cell_type": "markdown",
   "id": "fe2cbf4e",
   "metadata": {},
   "source": [
    "Check that the catalog you created during the Polaris Catalog setup is ready\n",
    "If your catalog is not showing up, go back and make sure the Polaris Catalog setup is completed and permissions are assigned"
   ]
  },
  {
   "cell_type": "code",
   "execution_count": null,
   "id": "bea8bd19-04b2-4f74-853b-4f2127523f28",
   "metadata": {},
   "outputs": [],
   "source": [
    "%%sql\n",
    "\n",
    "SHOW CATALOGS"
   ]
  },
  {
   "cell_type": "code",
   "execution_count": null,
   "id": "4ced3b9c-fbeb-4335-b339-f9c4c571b103",
   "metadata": {},
   "outputs": [],
   "source": [
    "%%sql\n",
    "\n",
    "-- Create a default database.\n",
    "-- This can be anything, but remember to reference it in the following cells\n",
    "\n",
    "CREATE DATABASE demo"
   ]
  },
  {
   "cell_type": "code",
   "execution_count": null,
   "id": "2cb4c048-259a-43bf-b039-fbfafb87136e",
   "metadata": {},
   "outputs": [],
   "source": [
    "%%sql\n",
    "\n",
    "-- Create an Iceberg table with a few columns\n",
    "\n",
    "CREATE TABLE demo.users (\n",
    "    id INT, \n",
    "    name STRING\n",
    ") USING ICEBERG"
   ]
  },
  {
   "cell_type": "code",
   "execution_count": null,
   "id": "992a7737-3d04-4a59-9c8e-49b2b362e223",
   "metadata": {},
   "outputs": [],
   "source": [
    "%%sql\n",
    "\n",
    "-- Insert some values into your new table\n",
    "\n",
    "INSERT INTO demo.users VALUES\n",
    "  (1, 'roy'),\n",
    "  (2, 'ori'),\n",
    "  (3, 'john'),\n",
    "  (4, 'jason'),\n",
    "  (5, 'david')"
   ]
  },
  {
   "cell_type": "code",
   "execution_count": null,
   "id": "0dc9390e-4aec-4c8e-a6b1-d72f2400078d",
   "metadata": {},
   "outputs": [],
   "source": [
    "%%sql\n",
    "\n",
    "SELECT * FROM demo.users"
   ]
  },
  {
   "cell_type": "markdown",
   "id": "1da22758",
   "metadata": {},
   "source": [
    "# Iceberg tables under the hood\n",
    "\n",
    "In the following sections we'll look at the structure of an Iceberg table."
   ]
  },
  {
   "cell_type": "markdown",
   "id": "256b88b3",
   "metadata": {},
   "source": [
    "## Snapshots\n",
    "When you query the snapshots information table you'll be able to see the current and previous snapshots of your table.\n",
    "Pay attention to the `summary` column, note that `added-records` equal the number of rows we inserted in the previous statement."
   ]
  },
  {
   "cell_type": "code",
   "execution_count": null,
   "id": "ed6241e3",
   "metadata": {},
   "outputs": [],
   "source": [
    "%%sql\n",
    "\n",
    "-- Inspect the snapshots table\n",
    "\n",
    "SELECT * FROM polaris.demo.users.snapshots"
   ]
  },
  {
   "cell_type": "markdown",
   "id": "9949bb3d",
   "metadata": {},
   "source": [
    "### Inserting a new value\n",
    "Insert a new value to the table. A new snapshot is created and the row is added into a new data file"
   ]
  },
  {
   "cell_type": "code",
   "execution_count": null,
   "id": "17bd8ec2",
   "metadata": {},
   "outputs": [],
   "source": [
    "%%sql\n",
    "\n",
    "INSERT INTO demo.users VALUES (6, 'bob');"
   ]
  },
  {
   "cell_type": "markdown",
   "id": "9feb2089",
   "metadata": {},
   "source": [
    "A second snapshot was created representing the new row we added above.\n",
    "Pay attention under `summary` column to `added-records` which shows 1 and `total-records` which shows 6"
   ]
  },
  {
   "cell_type": "code",
   "execution_count": null,
   "id": "767c8eca",
   "metadata": {},
   "outputs": [],
   "source": [
    "%%sql\n",
    "\n",
    "SELECT * FROM polaris.demo.users.snapshots"
   ]
  },
  {
   "cell_type": "markdown",
   "id": "fc6086b3",
   "metadata": {},
   "source": [
    "### Updating existing values\n",
    "To update an individual value in a table, use the `UPDATE` keyword with an appropriate `WHERE` to identify the row you want to update"
   ]
  },
  {
   "cell_type": "code",
   "execution_count": null,
   "id": "edb336fa",
   "metadata": {},
   "outputs": [],
   "source": [
    "%%sql\n",
    "\n",
    "UPDATE demo.users\n",
    "SET name = 'dave'\n",
    "WHERE id = 5"
   ]
  },
  {
   "cell_type": "markdown",
   "id": "fe9d58ab",
   "metadata": {},
   "source": [
    "Inspect the snapshots table and note the new snapshot that was created represents an `overwrite` operation. In this operation, Iceberg deleted a row, `deleted-record=1` which was the row we updated containing the original values. And added a row `added-record=1` which is the row with the new values."
   ]
  },
  {
   "cell_type": "code",
   "execution_count": null,
   "id": "05e8eb89",
   "metadata": {},
   "outputs": [],
   "source": [
    "%%sql\n",
    "\n",
    "SELECT * FROM polaris.demo.users.snapshots"
   ]
  },
  {
   "cell_type": "markdown",
   "id": "b0a7f127",
   "metadata": {},
   "source": [
    "Inspecting the `manifests` table is another way to understand the changes performed on a specific Iceberg table."
   ]
  },
  {
   "cell_type": "code",
   "execution_count": null,
   "id": "001b98cd",
   "metadata": {},
   "outputs": [],
   "source": [
    "%%sql\n",
    "\n",
    "SELECT * FROM polaris.demo.users.manifests"
   ]
  },
  {
   "cell_type": "markdown",
   "id": "c4816377",
   "metadata": {},
   "source": [
    "### Deleting values\n",
    "\n",
    "You can delete values from a table using the `DELETE` keyword and a `WHERE` clause to identify which rows to delete"
   ]
  },
  {
   "cell_type": "markdown",
   "id": "d52e363a",
   "metadata": {},
   "source": [
    "%%sql\n",
    "\n",
    "DELETE FROM demo.users\n",
    "WHERE id = 5"
   ]
  },
  {
   "cell_type": "code",
   "execution_count": null,
   "id": "d72b7be7",
   "metadata": {},
   "outputs": [],
   "source": [
    "%%sql\n",
    "\n",
    "SELECT * FROM polaris.demo.users.snapshots"
   ]
  },
  {
   "cell_type": "code",
   "execution_count": null,
   "id": "243eecc9",
   "metadata": {},
   "outputs": [],
   "source": [
    "%%sql\n",
    "\n",
    "SELECT * FROM polaris.demo.users.manifests"
   ]
  },
  {
   "cell_type": "markdown",
   "id": "8fdddf52",
   "metadata": {},
   "source": [
    "Notice that when you exectue the following query, no results are returned. This means that no delete files where created when rows were updated or deleted.\n",
    "Kind of strage no?  Well in fact that's because the table is by default configured to Copy On Write which merges the delete files on write."
   ]
  },
  {
   "cell_type": "code",
   "execution_count": null,
   "id": "163a60b1",
   "metadata": {},
   "outputs": [],
   "source": [
    "%%sql\n",
    "\n",
    "SELECT * FROM polaris.demo.users.all_delete_files"
   ]
  },
  {
   "cell_type": "markdown",
   "id": "18bb487e",
   "metadata": {},
   "source": [
    "### Working with MoR and CoW tables\n",
    "\n",
    "MoR tables require the query engine to merge data and delete files on read. You can periodically compact these files to make the query engine's life easier.\n",
    "CoW tables merges the data and delete files when the rows are written. It requires more IO on write, but far less on read.\n",
    "\n",
    "Spark allows you to configure MoR or CoW for either `delete`, `update` or `merge` operations. This gives you flexibility to control how your tables should be updated."
   ]
  },
  {
   "cell_type": "markdown",
   "id": "ec20a3c7",
   "metadata": {},
   "source": [
    "%%sql\n",
    "\n",
    "ALTER TABLE demo.users SET TBLPROPERTIES (\n",
    "  'write.update.mode'='merge-on-read'\n",
    ")"
   ]
  },
  {
   "cell_type": "markdown",
   "id": "5823084c",
   "metadata": {},
   "source": [
    "In the previous statement we changed the mode at which Spark updates rows, using MoR.\n",
    "\n",
    "Next, lets update a row and see how our table reacts"
   ]
  },
  {
   "cell_type": "code",
   "execution_count": null,
   "id": "0435b393",
   "metadata": {},
   "outputs": [],
   "source": [
    "%%sql\n",
    "\n",
    "UPDATE demo.users\n",
    "SET name='bobby'\n",
    "WHERE id = 6"
   ]
  },
  {
   "cell_type": "markdown",
   "id": "db8c72be",
   "metadata": {},
   "source": [
    "Check to see if any delete files were created.  Remember, previously no delete files where created."
   ]
  },
  {
   "cell_type": "code",
   "execution_count": null,
   "id": "c6398a0b",
   "metadata": {},
   "outputs": [],
   "source": [
    "%%sql\n",
    "\n",
    "SELECT * FROM polaris.demo.users.all_delete_files"
   ]
  },
  {
   "cell_type": "markdown",
   "id": "67bbc5e9",
   "metadata": {},
   "source": [
    "Inspecting the `manifests` table also shows that Iceberg created a specific manifest file to track the delete file, along with manifests to track the data files.\n",
    "You can tell by looking at the `content` column. `0` means manifest tracking data files and `1` means manifest tracking delete files"
   ]
  },
  {
   "cell_type": "markdown",
   "id": "5eb8f5c4",
   "metadata": {},
   "source": [
    "%%sql\n",
    "\n",
    "SELECT * FROM polaris.demo.users.manifests"
   ]
  }
 ],
 "metadata": {
  "kernelspec": {
   "display_name": "Python 3 (ipykernel)",
   "language": "python",
   "name": "python3"
  },
  "language_info": {
   "codemirror_mode": {
    "name": "ipython",
    "version": 3
   },
   "file_extension": ".py",
   "mimetype": "text/x-python",
   "name": "python",
   "nbconvert_exporter": "python",
   "pygments_lexer": "ipython3",
   "version": "3.10.6"
  }
 },
 "nbformat": 4,
 "nbformat_minor": 5
}
